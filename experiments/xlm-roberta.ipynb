{
 "cells": [
  {
   "cell_type": "code",
   "execution_count": null,
   "id": "5a3cc225",
   "metadata": {},
   "outputs": [],
   "source": [
    "import pandas as pd\n",
    "import tqdm\n",
    "import ast\n",
    "from collections import Counter\n",
    "from sklearn.preprocessing import LabelEncoder\n",
    "from sklearn.model_selection import train_test_split\n",
    "from sklearn.metrics import f1_score, precision_score, recall_score\n",
    "import re\n",
    "import numpy as np"
   ]
  },
  {
   "cell_type": "code",
   "execution_count": 5,
   "id": "55655f00",
   "metadata": {},
   "outputs": [
    {
     "data": {
      "text/html": [
       "<div>\n",
       "<style scoped>\n",
       "    .dataframe tbody tr th:only-of-type {\n",
       "        vertical-align: middle;\n",
       "    }\n",
       "\n",
       "    .dataframe tbody tr th {\n",
       "        vertical-align: top;\n",
       "    }\n",
       "\n",
       "    .dataframe thead th {\n",
       "        text-align: right;\n",
       "    }\n",
       "</style>\n",
       "<table border=\"1\" class=\"dataframe\">\n",
       "  <thead>\n",
       "    <tr style=\"text-align: right;\">\n",
       "      <th></th>\n",
       "      <th>text</th>\n",
       "      <th>tokens</th>\n",
       "      <th>clear_punct_lower</th>\n",
       "      <th>labels</th>\n",
       "    </tr>\n",
       "  </thead>\n",
       "  <tbody>\n",
       "    <tr>\n",
       "      <th>1341</th>\n",
       "      <td>Все это смог я различить лишь смутно и с трудо...</td>\n",
       "      <td>[все, это, смог, я, различить, лишь, смутно, и...</td>\n",
       "      <td>все это смог я различить лишь смутно и с трудо...</td>\n",
       "      <td>[o, o, o, o, o, o, o, o, o, ., o, o, o, o, o, ...</td>\n",
       "    </tr>\n",
       "    <tr>\n",
       "      <th>25027</th>\n",
       "      <td>Она поехала в игрушечную лавку, накупила игруш...</td>\n",
       "      <td>[она, поехала, в, игрушечную, лавку, накупила,...</td>\n",
       "      <td>она поехала в игрушечную лавку накупила игруше...</td>\n",
       "      <td>[o, o, o, o, ,, o, o, o, o, o, ., o, o, o, ,, ...</td>\n",
       "    </tr>\n",
       "    <tr>\n",
       "      <th>2585</th>\n",
       "      <td>Наконец настало утро четырнадцатого числа. пог...</td>\n",
       "      <td>[наконец, настало, утро, четырнадцатого, числа...</td>\n",
       "      <td>наконец настало утро четырнадцатого числа пого...</td>\n",
       "      <td>[o, o, o, o, ., o, o, o, o, o, o, o, ,, o, o, ...</td>\n",
       "    </tr>\n",
       "    <tr>\n",
       "      <th>16829</th>\n",
       "      <td>Хорошо. А почему прежде, бывало, с восьми часо...</td>\n",
       "      <td>[хорошо, а, почему, прежде, бывало, с, восьми,...</td>\n",
       "      <td>хорошо а почему прежде бывало с восьми часов в...</td>\n",
       "      <td>[., o, o, ,, ,, o, o, o, o, o, o, o, ,, o, o, ...</td>\n",
       "    </tr>\n",
       "    <tr>\n",
       "      <th>7937</th>\n",
       "      <td>Говоря это, графиня оглянулась на дочь. Наташа...</td>\n",
       "      <td>[говоря, это, графиня, оглянулась, на, дочь, н...</td>\n",
       "      <td>говоря это графиня оглянулась на дочь наташа л...</td>\n",
       "      <td>[o, ,, o, o, o, ., o, ,, o, o, o, o, o, o, o, ...</td>\n",
       "    </tr>\n",
       "    <tr>\n",
       "      <th>...</th>\n",
       "      <td>...</td>\n",
       "      <td>...</td>\n",
       "      <td>...</td>\n",
       "      <td>...</td>\n",
       "    </tr>\n",
       "    <tr>\n",
       "      <th>13908</th>\n",
       "      <td>Разве на одну секунду... Я пришел за советом. ...</td>\n",
       "      <td>[разве, на, одну, секунду, я, пришел, за, сове...</td>\n",
       "      <td>разве на одну секунду я пришел за советом я ко...</td>\n",
       "      <td>[o, o, o, ..., o, o, o, ., ,, ,, o, o, o, ,, ,...</td>\n",
       "    </tr>\n",
       "    <tr>\n",
       "      <th>21490</th>\n",
       "      <td>План был очень хорош, но дело заключалось в то...</td>\n",
       "      <td>[план, был, очень, хорош, но, дело, заключалос...</td>\n",
       "      <td>план был очень хорош но дело заключалось в том...</td>\n",
       "      <td>[o, o, o, ,, o, o, o, o, ,, o, o, o, o, o, o, ...</td>\n",
       "    </tr>\n",
       "    <tr>\n",
       "      <th>2567</th>\n",
       "      <td>Сохраняя, поелику возможно, равновесие, чтобы ...</td>\n",
       "      <td>[сохраняя, поелику, возможно, равновесие, чтоб...</td>\n",
       "      <td>сохраняя поелику возможно равновесие чтобы хор...</td>\n",
       "      <td>[,, o, ,, ,, o, o, o, ,, o, o, ,, o, o, o, o, ...</td>\n",
       "    </tr>\n",
       "    <tr>\n",
       "      <th>25405</th>\n",
       "      <td>Было ли в лице Левина что-нибудь особенное, ил...</td>\n",
       "      <td>[было, ли, в, лице, левина, чтонибудь, особенн...</td>\n",
       "      <td>было ли в лице левина чтонибудь особенное или ...</td>\n",
       "      <td>[o, o, o, o, o, o, ,, o, o, o, ,, o, o, o, o, ...</td>\n",
       "    </tr>\n",
       "    <tr>\n",
       "      <th>21900</th>\n",
       "      <td>Через секунду, не понимая, как это случилось, ...</td>\n",
       "      <td>[через, секунду, не, понимая, как, это, случил...</td>\n",
       "      <td>через секунду не понимая как это случилось мар...</td>\n",
       "      <td>[o, ,, o, ,, o, o, ,, o, o, o, o, o, o, o, o, ...</td>\n",
       "    </tr>\n",
       "  </tbody>\n",
       "</table>\n",
       "<p>2586 rows × 4 columns</p>\n",
       "</div>"
      ],
      "text/plain": [
       "                                                    text  \\\n",
       "1341   Все это смог я различить лишь смутно и с трудо...   \n",
       "25027  Она поехала в игрушечную лавку, накупила игруш...   \n",
       "2585   Наконец настало утро четырнадцатого числа. пог...   \n",
       "16829  Хорошо. А почему прежде, бывало, с восьми часо...   \n",
       "7937   Говоря это, графиня оглянулась на дочь. Наташа...   \n",
       "...                                                  ...   \n",
       "13908  Разве на одну секунду... Я пришел за советом. ...   \n",
       "21490  План был очень хорош, но дело заключалось в то...   \n",
       "2567   Сохраняя, поелику возможно, равновесие, чтобы ...   \n",
       "25405  Было ли в лице Левина что-нибудь особенное, ил...   \n",
       "21900  Через секунду, не понимая, как это случилось, ...   \n",
       "\n",
       "                                                  tokens  \\\n",
       "1341   [все, это, смог, я, различить, лишь, смутно, и...   \n",
       "25027  [она, поехала, в, игрушечную, лавку, накупила,...   \n",
       "2585   [наконец, настало, утро, четырнадцатого, числа...   \n",
       "16829  [хорошо, а, почему, прежде, бывало, с, восьми,...   \n",
       "7937   [говоря, это, графиня, оглянулась, на, дочь, н...   \n",
       "...                                                  ...   \n",
       "13908  [разве, на, одну, секунду, я, пришел, за, сове...   \n",
       "21490  [план, был, очень, хорош, но, дело, заключалос...   \n",
       "2567   [сохраняя, поелику, возможно, равновесие, чтоб...   \n",
       "25405  [было, ли, в, лице, левина, чтонибудь, особенн...   \n",
       "21900  [через, секунду, не, понимая, как, это, случил...   \n",
       "\n",
       "                                       clear_punct_lower  \\\n",
       "1341   все это смог я различить лишь смутно и с трудо...   \n",
       "25027  она поехала в игрушечную лавку накупила игруше...   \n",
       "2585   наконец настало утро четырнадцатого числа пого...   \n",
       "16829  хорошо а почему прежде бывало с восьми часов в...   \n",
       "7937   говоря это графиня оглянулась на дочь наташа л...   \n",
       "...                                                  ...   \n",
       "13908  разве на одну секунду я пришел за советом я ко...   \n",
       "21490  план был очень хорош но дело заключалось в том...   \n",
       "2567   сохраняя поелику возможно равновесие чтобы хор...   \n",
       "25405  было ли в лице левина чтонибудь особенное или ...   \n",
       "21900  через секунду не понимая как это случилось мар...   \n",
       "\n",
       "                                                  labels  \n",
       "1341   [o, o, o, o, o, o, o, o, o, ., o, o, o, o, o, ...  \n",
       "25027  [o, o, o, o, ,, o, o, o, o, o, ., o, o, o, ,, ...  \n",
       "2585   [o, o, o, o, ., o, o, o, o, o, o, o, ,, o, o, ...  \n",
       "16829  [., o, o, ,, ,, o, o, o, o, o, o, o, ,, o, o, ...  \n",
       "7937   [o, ,, o, o, o, ., o, ,, o, o, o, o, o, o, o, ...  \n",
       "...                                                  ...  \n",
       "13908  [o, o, o, ..., o, o, o, ., ,, ,, o, o, o, ,, ,...  \n",
       "21490  [o, o, o, ,, o, o, o, o, ,, o, o, o, o, o, o, ...  \n",
       "2567   [,, o, ,, ,, o, o, o, ,, o, o, ,, o, o, o, o, ...  \n",
       "25405  [o, o, o, o, o, o, ,, o, o, o, ,, o, o, o, o, ...  \n",
       "21900  [o, ,, o, ,, o, o, ,, o, o, o, o, o, o, o, o, ...  \n",
       "\n",
       "[2586 rows x 4 columns]"
      ]
     },
     "execution_count": 5,
     "metadata": {},
     "output_type": "execute_result"
    }
   ],
   "source": [
    "path = 'new_books_prepared.csv'\n",
    "\n",
    "df = pd.read_csv(path, index_col=0)\n",
    "df['tokens'] = df.tokens.apply(ast.literal_eval)\n",
    "df['labels'] = df.labels.apply(ast.literal_eval)\n",
    "df = df[df.tokens.apply(len) < 200]\n",
    "df_train, df_val_test = train_test_split(df, test_size=0.2, random_state=999)\n",
    "df_val, df_test  = train_test_split(df_val_test, test_size=0.5, random_state=999)\n",
    "\n",
    "df_test"
   ]
  },
  {
   "cell_type": "code",
   "execution_count": 7,
   "id": "d5839316",
   "metadata": {},
   "outputs": [],
   "source": [
    "def calc_metrics(y_true, y_pred):\n",
    "    y_true = np.array(y_true)\n",
    "    y_pred = np.array(y_pred)\n",
    "    print('Доля пробелов:', (y_true == 7).mean())\n",
    "    metrics = []\n",
    "    enctryption = {0:\",\",1:':',2:';',3:\".\",4:\"!\",5:\"?\",6:'...', 7:'o'}\n",
    "    sorted_dict = {enctryption[i[0]] : i[1] for i in sorted(Counter(y_true).items())}\n",
    "    \n",
    "    metrics.append(list(dict(sorted(Counter(y_true).items())).values()))\n",
    "    metrics.append(f1_score(y_true, y_pred, average=None))\n",
    "    metrics.append(precision_score(y_true, y_pred, average=None, zero_division=0))\n",
    "    metrics.append(recall_score(y_true, y_pred, average=None, zero_division=0))\n",
    "    metrics_index = ['Count', 'F1-Score', 'Precision', 'Recall']\n",
    "    df_metrics = pd.DataFrame(metrics, columns=sorted_dict.keys(), index=metrics_index)\n",
    "    \n",
    "    return df_metrics"
   ]
  },
  {
   "cell_type": "markdown",
   "id": "1652590d",
   "metadata": {},
   "source": [
    "## Xlm-roberta_punctuation\n"
   ]
  },
  {
   "cell_type": "code",
   "execution_count": 11,
   "id": "15535a5d",
   "metadata": {},
   "outputs": [
    {
     "data": {
      "application/vnd.jupyter.widget-view+json": {
       "model_id": "103d44e6a2954568ac184c865354d8d2",
       "version_major": 2,
       "version_minor": 0
      },
      "text/plain": [
       "sp.model:   0%|          | 0.00/5.07M [00:00<?, ?B/s]"
      ]
     },
     "metadata": {},
     "output_type": "display_data"
    },
    {
     "data": {
      "application/vnd.jupyter.widget-view+json": {
       "model_id": "77a133f3200e4d50ae83e430105b377d",
       "version_major": 2,
       "version_minor": 0
      },
      "text/plain": [
       "model.onnx:   0%|          | 0.00/1.11G [00:00<?, ?B/s]"
      ]
     },
     "metadata": {},
     "output_type": "display_data"
    },
    {
     "data": {
      "application/vnd.jupyter.widget-view+json": {
       "model_id": "11bb79dabb374506be2d81253dda78bc",
       "version_major": 2,
       "version_minor": 0
      },
      "text/plain": [
       "config.yaml:   0%|          | 0.00/531 [00:00<?, ?B/s]"
      ]
     },
     "metadata": {},
     "output_type": "display_data"
    },
    {
     "name": "stderr",
     "output_type": "stream",
     "text": [
      "/home/jovyan/.mlspace/envs/kozlov-ky/lib/python3.11/site-packages/onnxruntime/capi/onnxruntime_inference_collection.py:121: UserWarning: Specified provider 'CUDAExecutionProvider' is not in available provider names.Available providers: 'AzureExecutionProvider, CPUExecutionProvider'\n",
      "  warnings.warn(\n"
     ]
    },
    {
     "data": {
      "text/plain": [
       "'Привет, как дела? Это новый кадиллак.'"
      ]
     },
     "execution_count": 11,
     "metadata": {},
     "output_type": "execute_result"
    }
   ],
   "source": [
    "from punctuators.models import PunctCapSegModelONNX\n",
    "\n",
    "m = PunctCapSegModelONNX.from_pretrained(\n",
    "    \"1-800-BAD-CODE/xlm-roberta_punctuation_fullstop_truecase\"\n",
    ")\n",
    "\n",
    "input_texts = [\n",
    "    'привет как дела это новый кадиллак'\n",
    "]\n",
    "\n",
    "results = m.infer(\n",
    "    texts=input_texts, apply_sbd=True,\n",
    ")\n",
    "\n",
    "' '.join(results[0])"
   ]
  },
  {
   "cell_type": "code",
   "execution_count": 12,
   "id": "044256c7",
   "metadata": {},
   "outputs": [],
   "source": [
    "punctuation_signs = ['!', ',', '.', '...', ':', ';', '?']\n",
    "\n",
    "def roberta_prediction(text):\n",
    "    text = re.sub('– ', '', text)\n",
    "    text = re.sub('— ', '', text)\n",
    "    text = re.sub('\"', '', text)\n",
    "    text = text.lower()\n",
    "    text = re.sub('\\s+', ' ', text)\n",
    "\n",
    "    for sign in punctuation_signs:\n",
    "        text = text.replace(sign + ' ', ' ')\n",
    "        \n",
    "    if text[-1] in punctuation_signs:\n",
    "        text = text[:-1]\n",
    "        \n",
    "    preds = m.infer(\n",
    "    texts=[text], apply_sbd=False,\n",
    "    )\n",
    "    prediction = preds[0]\n",
    "    tokens = [token for token in prediction.split(' ') if token != '']\n",
    "    labels = []\n",
    "    \n",
    "    for token in tokens:\n",
    "        if (len(token) > 3) & (token[-3:] == '...'):\n",
    "            labels.append('...')\n",
    "        elif token[-1] in punctuation_signs:\n",
    "            labels.append(token[-1])\n",
    "        else:\n",
    "            labels.append('o')\n",
    "            \n",
    "    \n",
    "    return labels"
   ]
  },
  {
   "cell_type": "code",
   "execution_count": 13,
   "id": "8d6567f7",
   "metadata": {},
   "outputs": [
    {
     "name": "stderr",
     "output_type": "stream",
     "text": [
      "100%|██████████| 2586/2586 [20:51<00:00,  2.07it/s]\n"
     ]
    }
   ],
   "source": [
    "preds = []\n",
    "true_labels = []\n",
    "\n",
    "for id_text in tqdm.tqdm(range(len(df_test.text.values))):\n",
    "    if len(df_test.text.values[id_text]) < 10:\n",
    "        continue\n",
    "        \n",
    "    prediction= roberta_prediction(df_test.text.values[id_text])\n",
    "    needed_labels = df_test.labels.values[id_text]\n",
    "    \n",
    "    if len(prediction) != len(needed_labels):        \n",
    "        not_empty_token_idxs = ~(np.array(df_test.tokens.values[id_text]) == '')\n",
    "        needed_labels = np.array(needed_labels)[not_empty_token_idxs].tolist()\n",
    "        \n",
    "    if len(needed_labels) == len(prediction):\n",
    "        true_labels += needed_labels\n",
    "        preds += prediction"
   ]
  },
  {
   "cell_type": "code",
   "execution_count": 14,
   "id": "edc71674",
   "metadata": {},
   "outputs": [],
   "source": [
    "le = LabelEncoder().fit(true_labels)"
   ]
  },
  {
   "cell_type": "code",
   "execution_count": 15,
   "id": "933eb626",
   "metadata": {},
   "outputs": [],
   "source": [
    "y_pred = le.transform(preds)\n",
    "y_true = le.transform(true_labels)"
   ]
  },
  {
   "cell_type": "code",
   "execution_count": 16,
   "id": "93a923c5",
   "metadata": {},
   "outputs": [],
   "source": [
    "def calc_metrics_no_proba(y_true, y_pred):\n",
    "    print('Доля пробелов:', (y_true == 6).mean())\n",
    "    \n",
    "    metrics = []\n",
    "    metrics.append(list(dict(sorted(Counter(y_true).items())).values()))\n",
    "    metrics.append(f1_score(y_true, y_pred, average=None))\n",
    "    metrics.append(precision_score(y_true, y_pred, average=None, zero_division=0))\n",
    "    metrics.append(recall_score(y_true, y_pred, average=None, zero_division=0))\n",
    "    metrics_index = ['Count', 'F1-Score', 'Precision', 'Recall']\n",
    "    df_metrics = pd.DataFrame(metrics, columns=le.classes_, index=metrics_index)\n",
    "    \n",
    "    return df_metrics"
   ]
  },
  {
   "cell_type": "code",
   "execution_count": 17,
   "id": "6e45722b",
   "metadata": {},
   "outputs": [
    {
     "name": "stdout",
     "output_type": "stream",
     "text": [
      "Доля пробелов: 0.7975428559669088\n"
     ]
    },
    {
     "data": {
      "text/html": [
       "<div>\n",
       "<style scoped>\n",
       "    .dataframe tbody tr th:only-of-type {\n",
       "        vertical-align: middle;\n",
       "    }\n",
       "\n",
       "    .dataframe tbody tr th {\n",
       "        vertical-align: top;\n",
       "    }\n",
       "\n",
       "    .dataframe thead th {\n",
       "        text-align: right;\n",
       "    }\n",
       "</style>\n",
       "<table border=\"1\" class=\"dataframe\">\n",
       "  <thead>\n",
       "    <tr style=\"text-align: right;\">\n",
       "      <th></th>\n",
       "      <th>!</th>\n",
       "      <th>,</th>\n",
       "      <th>.</th>\n",
       "      <th>...</th>\n",
       "      <th>:</th>\n",
       "      <th>?</th>\n",
       "      <th>o</th>\n",
       "    </tr>\n",
       "  </thead>\n",
       "  <tbody>\n",
       "    <tr>\n",
       "      <th>Count</th>\n",
       "      <td>205.0</td>\n",
       "      <td>13002.000000</td>\n",
       "      <td>5794.000000</td>\n",
       "      <td>164.000000</td>\n",
       "      <td>214.0</td>\n",
       "      <td>297.000000</td>\n",
       "      <td>77510.000000</td>\n",
       "    </tr>\n",
       "    <tr>\n",
       "      <th>F1-Score</th>\n",
       "      <td>0.0</td>\n",
       "      <td>0.812895</td>\n",
       "      <td>0.727008</td>\n",
       "      <td>0.783883</td>\n",
       "      <td>0.0</td>\n",
       "      <td>0.616372</td>\n",
       "      <td>0.976453</td>\n",
       "    </tr>\n",
       "    <tr>\n",
       "      <th>Precision</th>\n",
       "      <td>0.0</td>\n",
       "      <td>0.791148</td>\n",
       "      <td>0.720780</td>\n",
       "      <td>0.981651</td>\n",
       "      <td>0.0</td>\n",
       "      <td>0.588957</td>\n",
       "      <td>0.978929</td>\n",
       "    </tr>\n",
       "    <tr>\n",
       "      <th>Recall</th>\n",
       "      <td>0.0</td>\n",
       "      <td>0.835871</td>\n",
       "      <td>0.733345</td>\n",
       "      <td>0.652439</td>\n",
       "      <td>0.0</td>\n",
       "      <td>0.646465</td>\n",
       "      <td>0.973990</td>\n",
       "    </tr>\n",
       "  </tbody>\n",
       "</table>\n",
       "</div>"
      ],
      "text/plain": [
       "               !             ,            .         ...      :           ?  \\\n",
       "Count      205.0  13002.000000  5794.000000  164.000000  214.0  297.000000   \n",
       "F1-Score     0.0      0.812895     0.727008    0.783883    0.0    0.616372   \n",
       "Precision    0.0      0.791148     0.720780    0.981651    0.0    0.588957   \n",
       "Recall       0.0      0.835871     0.733345    0.652439    0.0    0.646465   \n",
       "\n",
       "                      o  \n",
       "Count      77510.000000  \n",
       "F1-Score       0.976453  \n",
       "Precision      0.978929  \n",
       "Recall         0.973990  "
      ]
     },
     "execution_count": 17,
     "metadata": {},
     "output_type": "execute_result"
    }
   ],
   "source": [
    "calc_metrics_no_proba(y_true, y_pred)"
   ]
  }
 ],
 "metadata": {
  "kernelspec": {
   "display_name": "kozlov-ky",
   "language": "python",
   "name": "python3"
  },
  "language_info": {
   "codemirror_mode": {
    "name": "ipython",
    "version": 3
   },
   "file_extension": ".py",
   "mimetype": "text/x-python",
   "name": "python",
   "nbconvert_exporter": "python",
   "pygments_lexer": "ipython3",
   "version": "3.11.12"
  }
 },
 "nbformat": 4,
 "nbformat_minor": 5
}
